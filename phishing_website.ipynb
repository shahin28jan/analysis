{
 "cells": [
  {
   "attachments": {},
   "cell_type": "markdown",
   "id": "a7bf2279",
   "metadata": {},
   "source": [
    "For this assignment, I examine the phishing website dataset available at the UCI Machine Learning Repository.\n",
    "my aim is to predict whether websites are phishing or not on the bases of several attributes from the data set."
   ]
  },
  {
   "attachments": {},
   "cell_type": "markdown",
   "id": "0b27858b",
   "metadata": {},
   "source": [
    "installing klib liberary"
   ]
  },
  {
   "cell_type": "code",
   "execution_count": 2,
   "id": "59801729-50fb-428f-ae1b-c448747331db",
   "metadata": {},
   "outputs": [
    {
     "name": "stdout",
     "output_type": "stream",
     "text": [
      "Requirement already satisfied: klib in c:\\users\\mohdalwaz\\appdata\\local\\programs\\python\\python311\\lib\\site-packages (1.0.7)\n",
      "Requirement already satisfied: Jinja2<4.0.0,>=3.0.3 in c:\\users\\mohdalwaz\\appdata\\local\\programs\\python\\python311\\lib\\site-packages (from klib) (3.1.2)\n",
      "Requirement already satisfied: matplotlib<4.0.0,>=3.0.3 in c:\\users\\mohdalwaz\\appdata\\local\\programs\\python\\python311\\lib\\site-packages (from klib) (3.7.1)\n",
      "Requirement already satisfied: numpy<2.0.0,>=1.16.3 in c:\\users\\mohdalwaz\\appdata\\local\\programs\\python\\python311\\lib\\site-packages (from klib) (1.24.2)\n",
      "Requirement already satisfied: pandas<2.0.0,>=1.2.0 in c:\\users\\mohdalwaz\\appdata\\local\\programs\\python\\python311\\lib\\site-packages (from klib) (1.5.3)\n",
      "Requirement already satisfied: scipy<2.0.0,>=1.1.0 in c:\\users\\mohdalwaz\\appdata\\local\\programs\\python\\python311\\lib\\site-packages (from klib) (1.10.1)\n",
      "Requirement already satisfied: seaborn<0.13.0,>=0.11.2 in c:\\users\\mohdalwaz\\appdata\\local\\programs\\python\\python311\\lib\\site-packages (from klib) (0.12.2)\n",
      "Requirement already satisfied: MarkupSafe>=2.0 in c:\\users\\mohdalwaz\\appdata\\local\\programs\\python\\python311\\lib\\site-packages (from Jinja2<4.0.0,>=3.0.3->klib) (2.1.2)\n",
      "Requirement already satisfied: contourpy>=1.0.1 in c:\\users\\mohdalwaz\\appdata\\local\\programs\\python\\python311\\lib\\site-packages (from matplotlib<4.0.0,>=3.0.3->klib) (1.0.7)\n",
      "Requirement already satisfied: cycler>=0.10 in c:\\users\\mohdalwaz\\appdata\\local\\programs\\python\\python311\\lib\\site-packages (from matplotlib<4.0.0,>=3.0.3->klib) (0.11.0)\n",
      "Requirement already satisfied: fonttools>=4.22.0 in c:\\users\\mohdalwaz\\appdata\\local\\programs\\python\\python311\\lib\\site-packages (from matplotlib<4.0.0,>=3.0.3->klib) (4.39.0)\n",
      "Requirement already satisfied: kiwisolver>=1.0.1 in c:\\users\\mohdalwaz\\appdata\\local\\programs\\python\\python311\\lib\\site-packages (from matplotlib<4.0.0,>=3.0.3->klib) (1.4.4)\n",
      "Requirement already satisfied: packaging>=20.0 in c:\\users\\mohdalwaz\\appdata\\roaming\\python\\python311\\site-packages (from matplotlib<4.0.0,>=3.0.3->klib) (23.0)\n",
      "Requirement already satisfied: pillow>=6.2.0 in c:\\users\\mohdalwaz\\appdata\\local\\programs\\python\\python311\\lib\\site-packages (from matplotlib<4.0.0,>=3.0.3->klib) (9.4.0)\n",
      "Requirement already satisfied: pyparsing>=2.3.1 in c:\\users\\mohdalwaz\\appdata\\local\\programs\\python\\python311\\lib\\site-packages (from matplotlib<4.0.0,>=3.0.3->klib) (3.0.9)\n",
      "Requirement already satisfied: python-dateutil>=2.7 in c:\\users\\mohdalwaz\\appdata\\roaming\\python\\python311\\site-packages (from matplotlib<4.0.0,>=3.0.3->klib) (2.8.2)\n",
      "Requirement already satisfied: pytz>=2020.1 in c:\\users\\mohdalwaz\\appdata\\local\\programs\\python\\python311\\lib\\site-packages (from pandas<2.0.0,>=1.2.0->klib) (2022.7.1)\n",
      "Requirement already satisfied: six>=1.5 in c:\\users\\mohdalwaz\\appdata\\roaming\\python\\python311\\site-packages (from python-dateutil>=2.7->matplotlib<4.0.0,>=3.0.3->klib) (1.16.0)\n",
      "Note: you may need to restart the kernel to use updated packages.\n"
     ]
    },
    {
     "name": "stderr",
     "output_type": "stream",
     "text": [
      "\n",
      "[notice] A new release of pip available: 22.3.1 -> 23.0.1\n",
      "[notice] To update, run: python.exe -m pip install --upgrade pip\n"
     ]
    }
   ],
   "source": [
    "pip install klib"
   ]
  },
  {
   "attachments": {},
   "cell_type": "markdown",
   "id": "64c6457b",
   "metadata": {},
   "source": [
    "loading liberaries"
   ]
  },
  {
   "cell_type": "code",
   "execution_count": 3,
   "id": "d33b2be6-0a9e-4e72-be29-6950dd17498a",
   "metadata": {},
   "outputs": [],
   "source": [
    "import pandas as pd\n",
    "import numpy as np\n",
    "import matplotlib.pyplot as plt\n",
    "import klib\n",
    "import seaborn as sns\n",
    "import warnings\n",
    "                                                                                                                                                                                                                                                                                                                                                                                                                                                                                                                                                                                                                                                                                                                                                                                                                                                                                                                                                                                                                                                                                                                                                                                                                                                                                                                                                                                                                                                                                                                                                                                                                                                                                                                                                                                                                                                                                                                                                                                                                                                                                                                                                                                                                                                                                                                                                                                                                        \n",
    "warnings.filterwarnings(\"ignore\")\n",
    "\n",
    "%matplotlib inline"
   ]
  },
  {
   "attachments": {},
   "cell_type": "markdown",
   "id": "5c608ae1",
   "metadata": {},
   "source": [
    "load data"
   ]
  },
  {
   "cell_type": "code",
   "execution_count": 5,
   "id": "63ebc200-e9fa-4722-8c3e-2aac8f42006e",
   "metadata": {},
   "outputs": [],
   "source": [
    "phishing=pd.read_csv(\"https://raw.githubusercontent.com/shahin28jan/data/main/Phishing_Legitimate_full.csv\")"
   ]
  },
  {
   "attachments": {},
   "cell_type": "markdown",
   "id": "6ff8048e",
   "metadata": {},
   "source": [
    "Data Investigation    "
   ]
  },
  {
   "attachments": {},
   "cell_type": "markdown",
   "id": "06c2cf10",
   "metadata": {},
   "source": [
    "checking first 5 rows of the data"
   ]
  },
  {
   "cell_type": "code",
   "execution_count": 6,
   "id": "81c6b8f1-bcd4-4fdb-a56f-9dd5d49d508d",
   "metadata": {},
   "outputs": [
    {
     "data": {
      "text/html": [
       "<div>\n",
       "<style scoped>\n",
       "    .dataframe tbody tr th:only-of-type {\n",
       "        vertical-align: middle;\n",
       "    }\n",
       "\n",
       "    .dataframe tbody tr th {\n",
       "        vertical-align: top;\n",
       "    }\n",
       "\n",
       "    .dataframe thead th {\n",
       "        text-align: right;\n",
       "    }\n",
       "</style>\n",
       "<table border=\"1\" class=\"dataframe\">\n",
       "  <thead>\n",
       "    <tr style=\"text-align: right;\">\n",
       "      <th></th>\n",
       "      <th>id</th>\n",
       "      <th>NumDots</th>\n",
       "      <th>SubdomainLevel</th>\n",
       "      <th>PathLevel</th>\n",
       "      <th>UrlLength</th>\n",
       "      <th>NumDash</th>\n",
       "      <th>NumDashInHostname</th>\n",
       "      <th>AtSymbol</th>\n",
       "      <th>TildeSymbol</th>\n",
       "      <th>NumUnderscore</th>\n",
       "      <th>...</th>\n",
       "      <th>IframeOrFrame</th>\n",
       "      <th>MissingTitle</th>\n",
       "      <th>ImagesOnlyInForm</th>\n",
       "      <th>SubdomainLevelRT</th>\n",
       "      <th>UrlLengthRT</th>\n",
       "      <th>PctExtResourceUrlsRT</th>\n",
       "      <th>AbnormalExtFormActionR</th>\n",
       "      <th>ExtMetaScriptLinkRT</th>\n",
       "      <th>PctExtNullSelfRedirectHyperlinksRT</th>\n",
       "      <th>CLASS_LABEL</th>\n",
       "    </tr>\n",
       "  </thead>\n",
       "  <tbody>\n",
       "    <tr>\n",
       "      <th>0</th>\n",
       "      <td>1</td>\n",
       "      <td>3</td>\n",
       "      <td>1</td>\n",
       "      <td>5</td>\n",
       "      <td>72</td>\n",
       "      <td>0</td>\n",
       "      <td>0</td>\n",
       "      <td>0</td>\n",
       "      <td>0</td>\n",
       "      <td>0</td>\n",
       "      <td>...</td>\n",
       "      <td>0</td>\n",
       "      <td>0</td>\n",
       "      <td>1</td>\n",
       "      <td>1</td>\n",
       "      <td>0</td>\n",
       "      <td>1</td>\n",
       "      <td>1</td>\n",
       "      <td>-1</td>\n",
       "      <td>1</td>\n",
       "      <td>1</td>\n",
       "    </tr>\n",
       "    <tr>\n",
       "      <th>1</th>\n",
       "      <td>2</td>\n",
       "      <td>3</td>\n",
       "      <td>1</td>\n",
       "      <td>3</td>\n",
       "      <td>144</td>\n",
       "      <td>0</td>\n",
       "      <td>0</td>\n",
       "      <td>0</td>\n",
       "      <td>0</td>\n",
       "      <td>2</td>\n",
       "      <td>...</td>\n",
       "      <td>0</td>\n",
       "      <td>0</td>\n",
       "      <td>0</td>\n",
       "      <td>1</td>\n",
       "      <td>-1</td>\n",
       "      <td>1</td>\n",
       "      <td>1</td>\n",
       "      <td>1</td>\n",
       "      <td>1</td>\n",
       "      <td>1</td>\n",
       "    </tr>\n",
       "    <tr>\n",
       "      <th>2</th>\n",
       "      <td>3</td>\n",
       "      <td>3</td>\n",
       "      <td>1</td>\n",
       "      <td>2</td>\n",
       "      <td>58</td>\n",
       "      <td>0</td>\n",
       "      <td>0</td>\n",
       "      <td>0</td>\n",
       "      <td>0</td>\n",
       "      <td>0</td>\n",
       "      <td>...</td>\n",
       "      <td>0</td>\n",
       "      <td>0</td>\n",
       "      <td>0</td>\n",
       "      <td>1</td>\n",
       "      <td>0</td>\n",
       "      <td>-1</td>\n",
       "      <td>1</td>\n",
       "      <td>-1</td>\n",
       "      <td>0</td>\n",
       "      <td>1</td>\n",
       "    </tr>\n",
       "    <tr>\n",
       "      <th>3</th>\n",
       "      <td>4</td>\n",
       "      <td>3</td>\n",
       "      <td>1</td>\n",
       "      <td>6</td>\n",
       "      <td>79</td>\n",
       "      <td>1</td>\n",
       "      <td>0</td>\n",
       "      <td>0</td>\n",
       "      <td>0</td>\n",
       "      <td>0</td>\n",
       "      <td>...</td>\n",
       "      <td>0</td>\n",
       "      <td>0</td>\n",
       "      <td>0</td>\n",
       "      <td>1</td>\n",
       "      <td>-1</td>\n",
       "      <td>1</td>\n",
       "      <td>1</td>\n",
       "      <td>1</td>\n",
       "      <td>-1</td>\n",
       "      <td>1</td>\n",
       "    </tr>\n",
       "    <tr>\n",
       "      <th>4</th>\n",
       "      <td>5</td>\n",
       "      <td>3</td>\n",
       "      <td>0</td>\n",
       "      <td>4</td>\n",
       "      <td>46</td>\n",
       "      <td>0</td>\n",
       "      <td>0</td>\n",
       "      <td>0</td>\n",
       "      <td>0</td>\n",
       "      <td>0</td>\n",
       "      <td>...</td>\n",
       "      <td>1</td>\n",
       "      <td>0</td>\n",
       "      <td>0</td>\n",
       "      <td>1</td>\n",
       "      <td>1</td>\n",
       "      <td>-1</td>\n",
       "      <td>0</td>\n",
       "      <td>-1</td>\n",
       "      <td>-1</td>\n",
       "      <td>1</td>\n",
       "    </tr>\n",
       "  </tbody>\n",
       "</table>\n",
       "<p>5 rows × 50 columns</p>\n",
       "</div>"
      ],
      "text/plain": [
       "   id  NumDots  SubdomainLevel  PathLevel  UrlLength  NumDash  \\\n",
       "0   1        3               1          5         72        0   \n",
       "1   2        3               1          3        144        0   \n",
       "2   3        3               1          2         58        0   \n",
       "3   4        3               1          6         79        1   \n",
       "4   5        3               0          4         46        0   \n",
       "\n",
       "   NumDashInHostname  AtSymbol  TildeSymbol  NumUnderscore  ...  \\\n",
       "0                  0         0            0              0  ...   \n",
       "1                  0         0            0              2  ...   \n",
       "2                  0         0            0              0  ...   \n",
       "3                  0         0            0              0  ...   \n",
       "4                  0         0            0              0  ...   \n",
       "\n",
       "   IframeOrFrame  MissingTitle  ImagesOnlyInForm  SubdomainLevelRT  \\\n",
       "0              0             0                 1                 1   \n",
       "1              0             0                 0                 1   \n",
       "2              0             0                 0                 1   \n",
       "3              0             0                 0                 1   \n",
       "4              1             0                 0                 1   \n",
       "\n",
       "   UrlLengthRT  PctExtResourceUrlsRT  AbnormalExtFormActionR  \\\n",
       "0            0                     1                       1   \n",
       "1           -1                     1                       1   \n",
       "2            0                    -1                       1   \n",
       "3           -1                     1                       1   \n",
       "4            1                    -1                       0   \n",
       "\n",
       "   ExtMetaScriptLinkRT  PctExtNullSelfRedirectHyperlinksRT  CLASS_LABEL  \n",
       "0                   -1                                   1            1  \n",
       "1                    1                                   1            1  \n",
       "2                   -1                                   0            1  \n",
       "3                    1                                  -1            1  \n",
       "4                   -1                                  -1            1  \n",
       "\n",
       "[5 rows x 50 columns]"
      ]
     },
     "execution_count": 6,
     "metadata": {},
     "output_type": "execute_result"
    }
   ],
   "source": [
    "phishing.head()"
   ]
  },
  {
   "attachments": {},
   "cell_type": "markdown",
   "id": "c6ecfb84",
   "metadata": {},
   "source": [
    "columnes name before cleaning"
   ]
  },
  {
   "cell_type": "code",
   "execution_count": 7,
   "id": "df387c5b-1864-44b1-a27f-a37cf6b37da2",
   "metadata": {},
   "outputs": [
    {
     "data": {
      "text/plain": [
       "Index(['id', 'NumDots', 'SubdomainLevel', 'PathLevel', 'UrlLength', 'NumDash',\n",
       "       'NumDashInHostname', 'AtSymbol', 'TildeSymbol', 'NumUnderscore',\n",
       "       'NumPercent', 'NumQueryComponents', 'NumAmpersand', 'NumHash',\n",
       "       'NumNumericChars', 'NoHttps', 'RandomString', 'IpAddress',\n",
       "       'DomainInSubdomains', 'DomainInPaths', 'HttpsInHostname',\n",
       "       'HostnameLength', 'PathLength', 'QueryLength', 'DoubleSlashInPath',\n",
       "       'NumSensitiveWords', 'EmbeddedBrandName', 'PctExtHyperlinks',\n",
       "       'PctExtResourceUrls', 'ExtFavicon', 'InsecureForms',\n",
       "       'RelativeFormAction', 'ExtFormAction', 'AbnormalFormAction',\n",
       "       'PctNullSelfRedirectHyperlinks', 'FrequentDomainNameMismatch',\n",
       "       'FakeLinkInStatusBar', 'RightClickDisabled', 'PopUpWindow',\n",
       "       'SubmitInfoToEmail', 'IframeOrFrame', 'MissingTitle',\n",
       "       'ImagesOnlyInForm', 'SubdomainLevelRT', 'UrlLengthRT',\n",
       "       'PctExtResourceUrlsRT', 'AbnormalExtFormActionR', 'ExtMetaScriptLinkRT',\n",
       "       'PctExtNullSelfRedirectHyperlinksRT', 'CLASS_LABEL'],\n",
       "      dtype='object')"
      ]
     },
     "execution_count": 7,
     "metadata": {},
     "output_type": "execute_result"
    }
   ],
   "source": [
    "phishing.columns"
   ]
  },
  {
   "attachments": {},
   "cell_type": "markdown",
   "id": "e6e8dc53",
   "metadata": {},
   "source": [
    "Basic information"
   ]
  },
  {
   "cell_type": "code",
   "execution_count": 8,
   "id": "c9346a08",
   "metadata": {},
   "outputs": [
    {
     "data": {
      "text/plain": [
       "(10000, 50)"
      ]
     },
     "execution_count": 8,
     "metadata": {},
     "output_type": "execute_result"
    }
   ],
   "source": [
    "phishing.shape"
   ]
  },
  {
   "attachments": {},
   "cell_type": "markdown",
   "id": "cbbfc83d",
   "metadata": {},
   "source": [
    "There are 10000 rows and 50 columns"
   ]
  },
  {
   "cell_type": "code",
   "execution_count": 9,
   "id": "165313f6",
   "metadata": {},
   "outputs": [
    {
     "name": "stdout",
     "output_type": "stream",
     "text": [
      "<class 'pandas.core.frame.DataFrame'>\n",
      "RangeIndex: 10000 entries, 0 to 9999\n",
      "Data columns (total 50 columns):\n",
      " #   Column                              Non-Null Count  Dtype  \n",
      "---  ------                              --------------  -----  \n",
      " 0   id                                  10000 non-null  int64  \n",
      " 1   NumDots                             10000 non-null  int64  \n",
      " 2   SubdomainLevel                      10000 non-null  int64  \n",
      " 3   PathLevel                           10000 non-null  int64  \n",
      " 4   UrlLength                           10000 non-null  int64  \n",
      " 5   NumDash                             10000 non-null  int64  \n",
      " 6   NumDashInHostname                   10000 non-null  int64  \n",
      " 7   AtSymbol                            10000 non-null  int64  \n",
      " 8   TildeSymbol                         10000 non-null  int64  \n",
      " 9   NumUnderscore                       10000 non-null  int64  \n",
      " 10  NumPercent                          10000 non-null  int64  \n",
      " 11  NumQueryComponents                  10000 non-null  int64  \n",
      " 12  NumAmpersand                        10000 non-null  int64  \n",
      " 13  NumHash                             10000 non-null  int64  \n",
      " 14  NumNumericChars                     10000 non-null  int64  \n",
      " 15  NoHttps                             10000 non-null  int64  \n",
      " 16  RandomString                        10000 non-null  int64  \n",
      " 17  IpAddress                           10000 non-null  int64  \n",
      " 18  DomainInSubdomains                  10000 non-null  int64  \n",
      " 19  DomainInPaths                       10000 non-null  int64  \n",
      " 20  HttpsInHostname                     10000 non-null  int64  \n",
      " 21  HostnameLength                      10000 non-null  int64  \n",
      " 22  PathLength                          10000 non-null  int64  \n",
      " 23  QueryLength                         10000 non-null  int64  \n",
      " 24  DoubleSlashInPath                   10000 non-null  int64  \n",
      " 25  NumSensitiveWords                   10000 non-null  int64  \n",
      " 26  EmbeddedBrandName                   10000 non-null  int64  \n",
      " 27  PctExtHyperlinks                    10000 non-null  float64\n",
      " 28  PctExtResourceUrls                  10000 non-null  float64\n",
      " 29  ExtFavicon                          10000 non-null  int64  \n",
      " 30  InsecureForms                       10000 non-null  int64  \n",
      " 31  RelativeFormAction                  10000 non-null  int64  \n",
      " 32  ExtFormAction                       10000 non-null  int64  \n",
      " 33  AbnormalFormAction                  10000 non-null  int64  \n",
      " 34  PctNullSelfRedirectHyperlinks       10000 non-null  float64\n",
      " 35  FrequentDomainNameMismatch          10000 non-null  int64  \n",
      " 36  FakeLinkInStatusBar                 10000 non-null  int64  \n",
      " 37  RightClickDisabled                  10000 non-null  int64  \n",
      " 38  PopUpWindow                         10000 non-null  int64  \n",
      " 39  SubmitInfoToEmail                   10000 non-null  int64  \n",
      " 40  IframeOrFrame                       10000 non-null  int64  \n",
      " 41  MissingTitle                        10000 non-null  int64  \n",
      " 42  ImagesOnlyInForm                    10000 non-null  int64  \n",
      " 43  SubdomainLevelRT                    10000 non-null  int64  \n",
      " 44  UrlLengthRT                         10000 non-null  int64  \n",
      " 45  PctExtResourceUrlsRT                10000 non-null  int64  \n",
      " 46  AbnormalExtFormActionR              10000 non-null  int64  \n",
      " 47  ExtMetaScriptLinkRT                 10000 non-null  int64  \n",
      " 48  PctExtNullSelfRedirectHyperlinksRT  10000 non-null  int64  \n",
      " 49  CLASS_LABEL                         10000 non-null  int64  \n",
      "dtypes: float64(3), int64(47)\n",
      "memory usage: 3.8 MB\n"
     ]
    }
   ],
   "source": [
    "phishing.info()"
   ]
  },
  {
   "cell_type": "code",
   "execution_count": 10,
   "id": "a4894641",
   "metadata": {},
   "outputs": [
    {
     "data": {
      "text/html": [
       "<div>\n",
       "<style scoped>\n",
       "    .dataframe tbody tr th:only-of-type {\n",
       "        vertical-align: middle;\n",
       "    }\n",
       "\n",
       "    .dataframe tbody tr th {\n",
       "        vertical-align: top;\n",
       "    }\n",
       "\n",
       "    .dataframe thead th {\n",
       "        text-align: right;\n",
       "    }\n",
       "</style>\n",
       "<table border=\"1\" class=\"dataframe\">\n",
       "  <thead>\n",
       "    <tr style=\"text-align: right;\">\n",
       "      <th></th>\n",
       "      <th>id</th>\n",
       "      <th>NumDots</th>\n",
       "      <th>SubdomainLevel</th>\n",
       "      <th>PathLevel</th>\n",
       "      <th>UrlLength</th>\n",
       "      <th>NumDash</th>\n",
       "      <th>NumDashInHostname</th>\n",
       "      <th>AtSymbol</th>\n",
       "      <th>TildeSymbol</th>\n",
       "      <th>NumUnderscore</th>\n",
       "      <th>...</th>\n",
       "      <th>IframeOrFrame</th>\n",
       "      <th>MissingTitle</th>\n",
       "      <th>ImagesOnlyInForm</th>\n",
       "      <th>SubdomainLevelRT</th>\n",
       "      <th>UrlLengthRT</th>\n",
       "      <th>PctExtResourceUrlsRT</th>\n",
       "      <th>AbnormalExtFormActionR</th>\n",
       "      <th>ExtMetaScriptLinkRT</th>\n",
       "      <th>PctExtNullSelfRedirectHyperlinksRT</th>\n",
       "      <th>CLASS_LABEL</th>\n",
       "    </tr>\n",
       "  </thead>\n",
       "  <tbody>\n",
       "    <tr>\n",
       "      <th>count</th>\n",
       "      <td>10000.00000</td>\n",
       "      <td>10000.000000</td>\n",
       "      <td>10000.000000</td>\n",
       "      <td>10000.000000</td>\n",
       "      <td>10000.000000</td>\n",
       "      <td>10000.000000</td>\n",
       "      <td>10000.000000</td>\n",
       "      <td>10000.000000</td>\n",
       "      <td>10000.000000</td>\n",
       "      <td>10000.00000</td>\n",
       "      <td>...</td>\n",
       "      <td>10000.000000</td>\n",
       "      <td>10000.00000</td>\n",
       "      <td>10000.000000</td>\n",
       "      <td>10000.000000</td>\n",
       "      <td>10000.000000</td>\n",
       "      <td>10000.000000</td>\n",
       "      <td>10000.000000</td>\n",
       "      <td>10000.000000</td>\n",
       "      <td>10000.000000</td>\n",
       "      <td>10000.000000</td>\n",
       "    </tr>\n",
       "    <tr>\n",
       "      <th>mean</th>\n",
       "      <td>5000.50000</td>\n",
       "      <td>2.445100</td>\n",
       "      <td>0.586800</td>\n",
       "      <td>3.300300</td>\n",
       "      <td>70.264100</td>\n",
       "      <td>1.818000</td>\n",
       "      <td>0.138900</td>\n",
       "      <td>0.000300</td>\n",
       "      <td>0.013100</td>\n",
       "      <td>0.32320</td>\n",
       "      <td>...</td>\n",
       "      <td>0.339600</td>\n",
       "      <td>0.03220</td>\n",
       "      <td>0.030400</td>\n",
       "      <td>0.956600</td>\n",
       "      <td>0.020200</td>\n",
       "      <td>0.353300</td>\n",
       "      <td>0.793200</td>\n",
       "      <td>0.173400</td>\n",
       "      <td>0.314100</td>\n",
       "      <td>0.500000</td>\n",
       "    </tr>\n",
       "    <tr>\n",
       "      <th>std</th>\n",
       "      <td>2886.89568</td>\n",
       "      <td>1.346836</td>\n",
       "      <td>0.751214</td>\n",
       "      <td>1.863241</td>\n",
       "      <td>33.369877</td>\n",
       "      <td>3.106258</td>\n",
       "      <td>0.545744</td>\n",
       "      <td>0.017319</td>\n",
       "      <td>0.113709</td>\n",
       "      <td>1.11466</td>\n",
       "      <td>...</td>\n",
       "      <td>0.473597</td>\n",
       "      <td>0.17654</td>\n",
       "      <td>0.171694</td>\n",
       "      <td>0.248037</td>\n",
       "      <td>0.820036</td>\n",
       "      <td>0.888908</td>\n",
       "      <td>0.521019</td>\n",
       "      <td>0.755771</td>\n",
       "      <td>0.897843</td>\n",
       "      <td>0.500025</td>\n",
       "    </tr>\n",
       "    <tr>\n",
       "      <th>min</th>\n",
       "      <td>1.00000</td>\n",
       "      <td>1.000000</td>\n",
       "      <td>0.000000</td>\n",
       "      <td>0.000000</td>\n",
       "      <td>12.000000</td>\n",
       "      <td>0.000000</td>\n",
       "      <td>0.000000</td>\n",
       "      <td>0.000000</td>\n",
       "      <td>0.000000</td>\n",
       "      <td>0.00000</td>\n",
       "      <td>...</td>\n",
       "      <td>0.000000</td>\n",
       "      <td>0.00000</td>\n",
       "      <td>0.000000</td>\n",
       "      <td>-1.000000</td>\n",
       "      <td>-1.000000</td>\n",
       "      <td>-1.000000</td>\n",
       "      <td>-1.000000</td>\n",
       "      <td>-1.000000</td>\n",
       "      <td>-1.000000</td>\n",
       "      <td>0.000000</td>\n",
       "    </tr>\n",
       "    <tr>\n",
       "      <th>25%</th>\n",
       "      <td>2500.75000</td>\n",
       "      <td>2.000000</td>\n",
       "      <td>0.000000</td>\n",
       "      <td>2.000000</td>\n",
       "      <td>48.000000</td>\n",
       "      <td>0.000000</td>\n",
       "      <td>0.000000</td>\n",
       "      <td>0.000000</td>\n",
       "      <td>0.000000</td>\n",
       "      <td>0.00000</td>\n",
       "      <td>...</td>\n",
       "      <td>0.000000</td>\n",
       "      <td>0.00000</td>\n",
       "      <td>0.000000</td>\n",
       "      <td>1.000000</td>\n",
       "      <td>-1.000000</td>\n",
       "      <td>-1.000000</td>\n",
       "      <td>1.000000</td>\n",
       "      <td>0.000000</td>\n",
       "      <td>-1.000000</td>\n",
       "      <td>0.000000</td>\n",
       "    </tr>\n",
       "    <tr>\n",
       "      <th>50%</th>\n",
       "      <td>5000.50000</td>\n",
       "      <td>2.000000</td>\n",
       "      <td>1.000000</td>\n",
       "      <td>3.000000</td>\n",
       "      <td>62.000000</td>\n",
       "      <td>0.000000</td>\n",
       "      <td>0.000000</td>\n",
       "      <td>0.000000</td>\n",
       "      <td>0.000000</td>\n",
       "      <td>0.00000</td>\n",
       "      <td>...</td>\n",
       "      <td>0.000000</td>\n",
       "      <td>0.00000</td>\n",
       "      <td>0.000000</td>\n",
       "      <td>1.000000</td>\n",
       "      <td>0.000000</td>\n",
       "      <td>1.000000</td>\n",
       "      <td>1.000000</td>\n",
       "      <td>0.000000</td>\n",
       "      <td>1.000000</td>\n",
       "      <td>0.500000</td>\n",
       "    </tr>\n",
       "    <tr>\n",
       "      <th>75%</th>\n",
       "      <td>7500.25000</td>\n",
       "      <td>3.000000</td>\n",
       "      <td>1.000000</td>\n",
       "      <td>4.000000</td>\n",
       "      <td>84.000000</td>\n",
       "      <td>2.000000</td>\n",
       "      <td>0.000000</td>\n",
       "      <td>0.000000</td>\n",
       "      <td>0.000000</td>\n",
       "      <td>0.00000</td>\n",
       "      <td>...</td>\n",
       "      <td>1.000000</td>\n",
       "      <td>0.00000</td>\n",
       "      <td>0.000000</td>\n",
       "      <td>1.000000</td>\n",
       "      <td>1.000000</td>\n",
       "      <td>1.000000</td>\n",
       "      <td>1.000000</td>\n",
       "      <td>1.000000</td>\n",
       "      <td>1.000000</td>\n",
       "      <td>1.000000</td>\n",
       "    </tr>\n",
       "    <tr>\n",
       "      <th>max</th>\n",
       "      <td>10000.00000</td>\n",
       "      <td>21.000000</td>\n",
       "      <td>14.000000</td>\n",
       "      <td>18.000000</td>\n",
       "      <td>253.000000</td>\n",
       "      <td>55.000000</td>\n",
       "      <td>9.000000</td>\n",
       "      <td>1.000000</td>\n",
       "      <td>1.000000</td>\n",
       "      <td>18.00000</td>\n",
       "      <td>...</td>\n",
       "      <td>1.000000</td>\n",
       "      <td>1.00000</td>\n",
       "      <td>1.000000</td>\n",
       "      <td>1.000000</td>\n",
       "      <td>1.000000</td>\n",
       "      <td>1.000000</td>\n",
       "      <td>1.000000</td>\n",
       "      <td>1.000000</td>\n",
       "      <td>1.000000</td>\n",
       "      <td>1.000000</td>\n",
       "    </tr>\n",
       "  </tbody>\n",
       "</table>\n",
       "<p>8 rows × 50 columns</p>\n",
       "</div>"
      ],
      "text/plain": [
       "                id       NumDots  SubdomainLevel     PathLevel     UrlLength  \\\n",
       "count  10000.00000  10000.000000    10000.000000  10000.000000  10000.000000   \n",
       "mean    5000.50000      2.445100        0.586800      3.300300     70.264100   \n",
       "std     2886.89568      1.346836        0.751214      1.863241     33.369877   \n",
       "min        1.00000      1.000000        0.000000      0.000000     12.000000   \n",
       "25%     2500.75000      2.000000        0.000000      2.000000     48.000000   \n",
       "50%     5000.50000      2.000000        1.000000      3.000000     62.000000   \n",
       "75%     7500.25000      3.000000        1.000000      4.000000     84.000000   \n",
       "max    10000.00000     21.000000       14.000000     18.000000    253.000000   \n",
       "\n",
       "            NumDash  NumDashInHostname      AtSymbol   TildeSymbol  \\\n",
       "count  10000.000000       10000.000000  10000.000000  10000.000000   \n",
       "mean       1.818000           0.138900      0.000300      0.013100   \n",
       "std        3.106258           0.545744      0.017319      0.113709   \n",
       "min        0.000000           0.000000      0.000000      0.000000   \n",
       "25%        0.000000           0.000000      0.000000      0.000000   \n",
       "50%        0.000000           0.000000      0.000000      0.000000   \n",
       "75%        2.000000           0.000000      0.000000      0.000000   \n",
       "max       55.000000           9.000000      1.000000      1.000000   \n",
       "\n",
       "       NumUnderscore  ...  IframeOrFrame  MissingTitle  ImagesOnlyInForm  \\\n",
       "count    10000.00000  ...   10000.000000   10000.00000      10000.000000   \n",
       "mean         0.32320  ...       0.339600       0.03220          0.030400   \n",
       "std          1.11466  ...       0.473597       0.17654          0.171694   \n",
       "min          0.00000  ...       0.000000       0.00000          0.000000   \n",
       "25%          0.00000  ...       0.000000       0.00000          0.000000   \n",
       "50%          0.00000  ...       0.000000       0.00000          0.000000   \n",
       "75%          0.00000  ...       1.000000       0.00000          0.000000   \n",
       "max         18.00000  ...       1.000000       1.00000          1.000000   \n",
       "\n",
       "       SubdomainLevelRT   UrlLengthRT  PctExtResourceUrlsRT  \\\n",
       "count      10000.000000  10000.000000          10000.000000   \n",
       "mean           0.956600      0.020200              0.353300   \n",
       "std            0.248037      0.820036              0.888908   \n",
       "min           -1.000000     -1.000000             -1.000000   \n",
       "25%            1.000000     -1.000000             -1.000000   \n",
       "50%            1.000000      0.000000              1.000000   \n",
       "75%            1.000000      1.000000              1.000000   \n",
       "max            1.000000      1.000000              1.000000   \n",
       "\n",
       "       AbnormalExtFormActionR  ExtMetaScriptLinkRT  \\\n",
       "count            10000.000000         10000.000000   \n",
       "mean                 0.793200             0.173400   \n",
       "std                  0.521019             0.755771   \n",
       "min                 -1.000000            -1.000000   \n",
       "25%                  1.000000             0.000000   \n",
       "50%                  1.000000             0.000000   \n",
       "75%                  1.000000             1.000000   \n",
       "max                  1.000000             1.000000   \n",
       "\n",
       "       PctExtNullSelfRedirectHyperlinksRT   CLASS_LABEL  \n",
       "count                        10000.000000  10000.000000  \n",
       "mean                             0.314100      0.500000  \n",
       "std                              0.897843      0.500025  \n",
       "min                             -1.000000      0.000000  \n",
       "25%                             -1.000000      0.000000  \n",
       "50%                              1.000000      0.500000  \n",
       "75%                              1.000000      1.000000  \n",
       "max                              1.000000      1.000000  \n",
       "\n",
       "[8 rows x 50 columns]"
      ]
     },
     "execution_count": 10,
     "metadata": {},
     "output_type": "execute_result"
    }
   ],
   "source": [
    "phishing.describe()"
   ]
  },
  {
   "attachments": {},
   "cell_type": "markdown",
   "id": "72d8002d",
   "metadata": {},
   "source": [
    "Observatio:\n",
    "   1.The dataset contains 10000 rows and 50 columns\n",
    "   2.There are no categorical features\n",
    "   3.There are 47 numeric features and 3 float "
   ]
  },
  {
   "attachments": {},
   "cell_type": "markdown",
   "id": "d55cbf17",
   "metadata": {},
   "source": [
    "There is no null value and uniqu value"
   ]
  },
  {
   "attachments": {},
   "cell_type": "markdown",
   "id": "8948a0c8",
   "metadata": {},
   "source": [
    "cleaning the data by klib liberary"
   ]
  },
  {
   "cell_type": "code",
   "execution_count": 12,
   "id": "2a9f9b76-4ca7-4abb-8063-32fd5db5a365",
   "metadata": {},
   "outputs": [
    {
     "name": "stdout",
     "output_type": "stream",
     "text": [
      "Long column names detected (>25 characters). Consider renaming the following columns ['pct_null_self_redirect_hyperlinks', 'frequent_domain_name_mismatch', 'abnormal_ext_form_action_r', 'pct_ext_null_self_redirect_hyperlinks_rt'].\n",
      "Shape of cleaned data: (10000, 49) - Remaining NAs: 0\n",
      "\n",
      "\n",
      "Dropped rows: 0\n",
      "     of which 0 duplicates. (Rows (first 150 shown): [])\n",
      "\n",
      "Dropped columns: 1\n",
      "     of which 1 single valued.     Columns: ['https_in_hostname']\n",
      "Dropped missing values: 0\n",
      "Reduced memory by at least: 3.21 MB (-84.25%)\n",
      "\n"
     ]
    }
   ],
   "source": [
    "phishing_clean = klib.data_cleaning(phishing)"
   ]
  },
  {
   "cell_type": "code",
   "execution_count": 13,
   "id": "7def5ed7-eaa1-4b3e-940f-4fc2d4b4a280",
   "metadata": {},
   "outputs": [
    {
     "data": {
      "text/html": [
       "<div>\n",
       "<style scoped>\n",
       "    .dataframe tbody tr th:only-of-type {\n",
       "        vertical-align: middle;\n",
       "    }\n",
       "\n",
       "    .dataframe tbody tr th {\n",
       "        vertical-align: top;\n",
       "    }\n",
       "\n",
       "    .dataframe thead th {\n",
       "        text-align: right;\n",
       "    }\n",
       "</style>\n",
       "<table border=\"1\" class=\"dataframe\">\n",
       "  <thead>\n",
       "    <tr style=\"text-align: right;\">\n",
       "      <th></th>\n",
       "      <th>id</th>\n",
       "      <th>num_dots</th>\n",
       "      <th>subdomain_level</th>\n",
       "      <th>path_level</th>\n",
       "      <th>url_length</th>\n",
       "      <th>num_dash</th>\n",
       "      <th>num_dash_in_hostname</th>\n",
       "      <th>at_symbol</th>\n",
       "      <th>tilde_symbol</th>\n",
       "      <th>num_underscore</th>\n",
       "      <th>...</th>\n",
       "      <th>iframe_or_frame</th>\n",
       "      <th>missing_title</th>\n",
       "      <th>images_only_in_form</th>\n",
       "      <th>subdomain_level_rt</th>\n",
       "      <th>url_length_rt</th>\n",
       "      <th>pct_ext_resource_urls_rt</th>\n",
       "      <th>abnormal_ext_form_action_r</th>\n",
       "      <th>ext_meta_script_link_rt</th>\n",
       "      <th>pct_ext_null_self_redirect_hyperlinks_rt</th>\n",
       "      <th>class_label</th>\n",
       "    </tr>\n",
       "  </thead>\n",
       "  <tbody>\n",
       "    <tr>\n",
       "      <th>0</th>\n",
       "      <td>1</td>\n",
       "      <td>3</td>\n",
       "      <td>1</td>\n",
       "      <td>5</td>\n",
       "      <td>72</td>\n",
       "      <td>0</td>\n",
       "      <td>0</td>\n",
       "      <td>0</td>\n",
       "      <td>0</td>\n",
       "      <td>0</td>\n",
       "      <td>...</td>\n",
       "      <td>0</td>\n",
       "      <td>0</td>\n",
       "      <td>1</td>\n",
       "      <td>1</td>\n",
       "      <td>0</td>\n",
       "      <td>1</td>\n",
       "      <td>1</td>\n",
       "      <td>-1</td>\n",
       "      <td>1</td>\n",
       "      <td>1</td>\n",
       "    </tr>\n",
       "    <tr>\n",
       "      <th>1</th>\n",
       "      <td>2</td>\n",
       "      <td>3</td>\n",
       "      <td>1</td>\n",
       "      <td>3</td>\n",
       "      <td>144</td>\n",
       "      <td>0</td>\n",
       "      <td>0</td>\n",
       "      <td>0</td>\n",
       "      <td>0</td>\n",
       "      <td>2</td>\n",
       "      <td>...</td>\n",
       "      <td>0</td>\n",
       "      <td>0</td>\n",
       "      <td>0</td>\n",
       "      <td>1</td>\n",
       "      <td>-1</td>\n",
       "      <td>1</td>\n",
       "      <td>1</td>\n",
       "      <td>1</td>\n",
       "      <td>1</td>\n",
       "      <td>1</td>\n",
       "    </tr>\n",
       "    <tr>\n",
       "      <th>2</th>\n",
       "      <td>3</td>\n",
       "      <td>3</td>\n",
       "      <td>1</td>\n",
       "      <td>2</td>\n",
       "      <td>58</td>\n",
       "      <td>0</td>\n",
       "      <td>0</td>\n",
       "      <td>0</td>\n",
       "      <td>0</td>\n",
       "      <td>0</td>\n",
       "      <td>...</td>\n",
       "      <td>0</td>\n",
       "      <td>0</td>\n",
       "      <td>0</td>\n",
       "      <td>1</td>\n",
       "      <td>0</td>\n",
       "      <td>-1</td>\n",
       "      <td>1</td>\n",
       "      <td>-1</td>\n",
       "      <td>0</td>\n",
       "      <td>1</td>\n",
       "    </tr>\n",
       "    <tr>\n",
       "      <th>3</th>\n",
       "      <td>4</td>\n",
       "      <td>3</td>\n",
       "      <td>1</td>\n",
       "      <td>6</td>\n",
       "      <td>79</td>\n",
       "      <td>1</td>\n",
       "      <td>0</td>\n",
       "      <td>0</td>\n",
       "      <td>0</td>\n",
       "      <td>0</td>\n",
       "      <td>...</td>\n",
       "      <td>0</td>\n",
       "      <td>0</td>\n",
       "      <td>0</td>\n",
       "      <td>1</td>\n",
       "      <td>-1</td>\n",
       "      <td>1</td>\n",
       "      <td>1</td>\n",
       "      <td>1</td>\n",
       "      <td>-1</td>\n",
       "      <td>1</td>\n",
       "    </tr>\n",
       "    <tr>\n",
       "      <th>4</th>\n",
       "      <td>5</td>\n",
       "      <td>3</td>\n",
       "      <td>0</td>\n",
       "      <td>4</td>\n",
       "      <td>46</td>\n",
       "      <td>0</td>\n",
       "      <td>0</td>\n",
       "      <td>0</td>\n",
       "      <td>0</td>\n",
       "      <td>0</td>\n",
       "      <td>...</td>\n",
       "      <td>1</td>\n",
       "      <td>0</td>\n",
       "      <td>0</td>\n",
       "      <td>1</td>\n",
       "      <td>1</td>\n",
       "      <td>-1</td>\n",
       "      <td>0</td>\n",
       "      <td>-1</td>\n",
       "      <td>-1</td>\n",
       "      <td>1</td>\n",
       "    </tr>\n",
       "  </tbody>\n",
       "</table>\n",
       "<p>5 rows × 49 columns</p>\n",
       "</div>"
      ],
      "text/plain": [
       "   id  num_dots  subdomain_level  path_level  url_length  num_dash  \\\n",
       "0   1         3                1           5          72         0   \n",
       "1   2         3                1           3         144         0   \n",
       "2   3         3                1           2          58         0   \n",
       "3   4         3                1           6          79         1   \n",
       "4   5         3                0           4          46         0   \n",
       "\n",
       "   num_dash_in_hostname  at_symbol  tilde_symbol  num_underscore  ...  \\\n",
       "0                     0          0             0               0  ...   \n",
       "1                     0          0             0               2  ...   \n",
       "2                     0          0             0               0  ...   \n",
       "3                     0          0             0               0  ...   \n",
       "4                     0          0             0               0  ...   \n",
       "\n",
       "   iframe_or_frame  missing_title  images_only_in_form  subdomain_level_rt  \\\n",
       "0                0              0                    1                   1   \n",
       "1                0              0                    0                   1   \n",
       "2                0              0                    0                   1   \n",
       "3                0              0                    0                   1   \n",
       "4                1              0                    0                   1   \n",
       "\n",
       "   url_length_rt  pct_ext_resource_urls_rt  abnormal_ext_form_action_r  \\\n",
       "0              0                         1                           1   \n",
       "1             -1                         1                           1   \n",
       "2              0                        -1                           1   \n",
       "3             -1                         1                           1   \n",
       "4              1                        -1                           0   \n",
       "\n",
       "   ext_meta_script_link_rt  pct_ext_null_self_redirect_hyperlinks_rt  \\\n",
       "0                       -1                                         1   \n",
       "1                        1                                         1   \n",
       "2                       -1                                         0   \n",
       "3                        1                                        -1   \n",
       "4                       -1                                        -1   \n",
       "\n",
       "   class_label  \n",
       "0            1  \n",
       "1            1  \n",
       "2            1  \n",
       "3            1  \n",
       "4            1  \n",
       "\n",
       "[5 rows x 49 columns]"
      ]
     },
     "execution_count": 13,
     "metadata": {},
     "output_type": "execute_result"
    }
   ],
   "source": [
    "phishing_clean.head()"
   ]
  },
  {
   "cell_type": "code",
   "execution_count": 14,
   "id": "7b199b03-93aa-4032-b607-6c685169da9c",
   "metadata": {},
   "outputs": [
    {
     "data": {
      "text/plain": [
       "Index(['id', 'num_dots', 'subdomain_level', 'path_level', 'url_length',\n",
       "       'num_dash', 'num_dash_in_hostname', 'at_symbol', 'tilde_symbol',\n",
       "       'num_underscore', 'num_percent', 'num_query_components',\n",
       "       'num_ampersand', 'num_hash', 'num_numeric_chars', 'no_https',\n",
       "       'random_string', 'ip_address', 'domain_in_subdomains',\n",
       "       'domain_in_paths', 'hostname_length', 'path_length', 'query_length',\n",
       "       'double_slash_in_path', 'num_sensitive_words', 'embedded_brand_name',\n",
       "       'pct_ext_hyperlinks', 'pct_ext_resource_urls', 'ext_favicon',\n",
       "       'insecure_forms', 'relative_form_action', 'ext_form_action',\n",
       "       'abnormal_form_action', 'pct_null_self_redirect_hyperlinks',\n",
       "       'frequent_domain_name_mismatch', 'fake_link_in_status_bar',\n",
       "       'right_click_disabled', 'pop_up_window', 'submit_info_to_email',\n",
       "       'iframe_or_frame', 'missing_title', 'images_only_in_form',\n",
       "       'subdomain_level_rt', 'url_length_rt', 'pct_ext_resource_urls_rt',\n",
       "       'abnormal_ext_form_action_r', 'ext_meta_script_link_rt',\n",
       "       'pct_ext_null_self_redirect_hyperlinks_rt', 'class_label'],\n",
       "      dtype='object')"
      ]
     },
     "execution_count": 14,
     "metadata": {},
     "output_type": "execute_result"
    }
   ],
   "source": [
    "phishing_clean.columns"
   ]
  },
  {
   "attachments": {},
   "cell_type": "markdown",
   "id": "1aa3fedc",
   "metadata": {},
   "source": [
    "Expolatary Data Analysis(EDA)"
   ]
  },
  {
   "cell_type": "code",
   "execution_count": 84,
   "id": "80901703-b3dc-4845-b8e1-8275e375f656",
   "metadata": {},
   "outputs": [
    {
     "data": {
      "text/plain": [
       "0    0\n",
       "1    0\n",
       "2    0\n",
       "3    0\n",
       "4    0\n",
       "Name: pop_up_window, dtype: int8"
      ]
     },
     "execution_count": 84,
     "metadata": {},
     "output_type": "execute_result"
    }
   ],
   "source": [
    "phishing_clean['pop_up_window'].head()"
   ]
  },
  {
   "cell_type": "code",
   "execution_count": 71,
   "id": "a120fb05-92af-40b1-bc03-d4b5232fe192",
   "metadata": {},
   "outputs": [
    {
     "name": "stdout",
     "output_type": "stream",
     "text": [
      "legitimate: 3465, suspicious: 3272 and phishing: 3263\n"
     ]
    },
    {
     "data": {
      "image/png": "[encoded data removed]",
      "text/plain": [
       "<Figure size 640x480 with 1 Axes>"
      ]
     },
     "metadata": {},
     "output_type": "display_data"
    }
   ],
   "source": [
    "legitimate=0\n",
    "suspicious=0\n",
    "phishing = 0\n",
    "for i in range(0, len(phishing_clean[\"url_length\"])):\n",
    "    if  phishing_clean[\"url_length\"][i] < 54:\n",
    "        legitimate = legitimate + 1\n",
    "       \n",
    "    elif  phishing_clean[\"url_length\"][i] >= 54 and phishing_clean[\"url_length\"][i] <= 75:\n",
    "        suspicious = suspicious + 1\n",
    "    else:\n",
    "        phishing = phishing + 1\n",
    "\n",
    "print(f\"legitimate: {legitimate}, suspicious: {suspicious} and phishing: {phishing}\")\n",
    "\n",
    "x = ['Legitimate', 'Suspicious', 'Phishy']\n",
    "x_pos = [i for i, _ in enumerate(x)]\n",
    "\n",
    "y = [legitimate, suspicious, phishing]\n",
    "\n",
    "fig, ax = plt.subplots()\n",
    "rects2 = ax.bar(x_pos, y, color='silver')\n",
    "\n",
    "plt.xlabel(\"Classes\")\n",
    "plt.ylabel(\"Number of Examples\")\n",
    "plt.title(\"Class distribution based on url length\\n\")\n",
    "plt.xticks(x_pos, x)\n",
    "\n",
    "autolabel(rects2)\n",
    "plt.show()"
   ]
  },
  {
   "cell_type": "code",
   "execution_count": 70,
   "id": "dc47e59a-c341-403e-ad25-48d430f66f6b",
   "metadata": {},
   "outputs": [
    {
     "name": "stdout",
     "output_type": "stream",
     "text": [
      "Total legitimate website: 9997 and total suspicious website: 3\n"
     ]
    },
    {
     "data": {
      "image/png": "[encoded data removed]",
      "text/plain": [
       "<Figure size 640x480 with 1 Axes>"
      ]
     },
     "metadata": {},
     "output_type": "display_data"
    }
   ],
   "source": [
    "no_at_in_url= len(phishing_clean[phishing_clean['at_symbol'] == 0])\n",
    "at_in_url = len(phishing_clean[phishing_clean['at_symbol'] == 1])\n",
    "print(f\"Total legitimate website: {no_at_in_url} and total suspicious website: {at_in_url}\")\n",
    "\n",
    "x = ['no_@_in_url', '@_in_url']\n",
    "x_pos = [i for i, _ in enumerate(x)]\n",
    "\n",
    "y = [no_at_in_url, at_in_url]\n",
    "\n",
    "fig, ax = plt.subplots()\n",
    "rects3 = ax.bar(x_pos, y, color='gold')\n",
    "\n",
    "plt.xlabel(\"Classes\")\n",
    "plt.ylabel(\"Number of Examples\")\n",
    "plt.title(\"Class distribution based on @ symbol in url\\n\")\n",
    "plt.xticks(x_pos, x)\n",
    "\n",
    "autolabel(rects3)\n",
    "plt.show()"
   ]
  },
  {
   "cell_type": "code",
   "execution_count": 72,
   "id": "2f19cf1f-df3b-42dd-8e9f-f13fcc82b1d3",
   "metadata": {},
   "outputs": [
    {
     "name": "stdout",
     "output_type": "stream",
     "text": [
      "Total legitimate website: 9991 and total suspicious website: 9\n"
     ]
    },
    {
     "data": {
      "image/png": "[encoded data removed]",
      "text/plain": [
       "<Figure size 640x480 with 1 Axes>"
      ]
     },
     "metadata": {},
     "output_type": "display_data"
    }
   ],
   "source": [
    "nor_num_slash= len(phishing_clean[phishing_clean['double_slash_in_path'] == 0])\n",
    "num_slash = len(phishing_clean[phishing_clean['double_slash_in_path'] == 1])\n",
    "print(f\"Total legitimate website: {nor_num_slash} and total suspicious website: {num_slash}\")\n",
    "\n",
    "x = ['nor_num_slash', 'phishy_num_slash']\n",
    "x_pos = [i for i, _ in enumerate(x)]\n",
    "\n",
    "y = [nor_num_slash, num_slash]\n",
    "\n",
    "fig, ax = plt.subplots()\n",
    "rects4 = ax.bar(x_pos, y, color='pink')\n",
    "\n",
    "plt.xlabel(\"Classes\")\n",
    "plt.ylabel(\"Number of Examples\")\n",
    "plt.title(\"Class distribution based on double_slash_in_path\\n\")\n",
    "plt.xticks(x_pos, x)\n",
    "\n",
    "autolabel(rects4)\n",
    "plt.show()"
   ]
  },
  {
   "cell_type": "code",
   "execution_count": 73,
   "id": "ff823fba-9c0c-4684-b36e-cc523238d001",
   "metadata": {},
   "outputs": [
    {
     "name": "stdout",
     "output_type": "stream",
     "text": [
      "Total legitimate website: 5001 and total suspicious website: 2103\n"
     ]
    },
    {
     "data": {
      "image/png": "[encoded data removed]",
      "text/plain": [
       "<Figure size 640x480 with 1 Axes>"
      ]
     },
     "metadata": {},
     "output_type": "display_data"
    }
   ],
   "source": [
    "no_dash= len(phishing_clean[phishing_clean['num_dash'] == 0])\n",
    "dash = len(phishing_clean[phishing_clean['num_dash'] == 1])\n",
    "print(f\"Total legitimate website: {no_dash} and total suspicious website: {dash}\")\n",
    "\n",
    "x = ['no_dash_url', 'dash_url']\n",
    "x_pos = [i for i, _ in enumerate(x)]\n",
    "\n",
    "y = [no_dash, dash]\n",
    "\n",
    "fig, ax = plt.subplots()\n",
    "rects5 = ax.bar(x_pos, y, color='green')\n",
    "\n",
    "plt.xlabel(\"Classes\")\n",
    "plt.ylabel(\"Number of Examples\")\n",
    "plt.title(\"Class distribution based on dash('-') in url\\n\")\n",
    "plt.xticks(x_pos, x)\n",
    "\n",
    "autolabel(rects5)\n",
    "plt.show()"
   ]
  },
  {
   "cell_type": "code",
   "execution_count": 74,
   "id": "107e2649-17e4-40b8-a738-0c302a9eaa13",
   "metadata": {},
   "outputs": [
    {
     "name": "stdout",
     "output_type": "stream",
     "text": [
      "Total legitimate website: 1959, total suspicious website: 4053 and total suspicious website: 3988\n"
     ]
    },
    {
     "data": {
      "image/png": "[encoded data removed]",
      "text/plain": [
       "<Figure size 640x480 with 1 Axes>"
      ]
     },
     "metadata": {},
     "output_type": "display_data"
    }
   ],
   "source": [
    "no_dot = len(phishing_clean[phishing_clean['num_dots'] == 1])\n",
    "sus_dot = len(phishing_clean[phishing_clean['num_dots'] == 2])\n",
    "phishy_dot = len(phishing_clean[phishing_clean['num_dots'] > 2])\n",
    "print(f\"Total legitimate website: {no_dot}, total suspicious website: {sus_dot} and total suspicious website: {phishy_dot}\")\n",
    "\n",
    "x = ['legi_dot_url', 'sus_dot_url', 'phisy_dot_url']\n",
    "x_pos = [i for i, _ in enumerate(x)]\n",
    "\n",
    "y = [no_dot, sus_dot, phishy_dot]\n",
    "\n",
    "fig, ax = plt.subplots()\n",
    "rects6 = ax.bar(x_pos, y, color='purple')\n",
    "\n",
    "plt.xlabel(\"Classes\")\n",
    "plt.ylabel(\"Number of Examples\")\n",
    "plt.title(\"Class distribution based on dot(.) in url\\n\")\n",
    "plt.xticks(x_pos, x)\n",
    "\n",
    "autolabel(rects6)\n",
    "plt.show()"
   ]
  },
  {
   "cell_type": "code",
   "execution_count": 75,
   "id": "f99ebea6-8b95-4ae8-b918-b5253eeea357",
   "metadata": {},
   "outputs": [
    {
     "name": "stdout",
     "output_type": "stream",
     "text": [
      "Total legitimate website: 8328 and total suspicious website: 1672\n"
     ]
    },
    {
     "data": {
      "image/png": "[encoded data removed]",
      "text/plain": [
       "<Figure size 640x480 with 1 Axes>"
      ]
     },
     "metadata": {},
     "output_type": "display_data"
    }
   ],
   "source": [
    "no_favicon= len(phishing_clean[phishing_clean['ext_favicon'] == 0])\n",
    "favicon = len(phishing_clean[phishing_clean['ext_favicon'] == 1])\n",
    "print(f\"Total legitimate website: {no_favicon} and total suspicious website: {favicon}\")\n",
    "\n",
    "x = ['fevicon_domain', 'fevican_external_domain']\n",
    "x_pos = [i for i, _ in enumerate(x)]\n",
    "\n",
    "y = [no_favicon, favicon]\n",
    "\n",
    "fig, ax = plt.subplots()\n",
    "rects7 = ax.bar(x_pos, y, color='cyan')\n",
    "\n",
    "plt.xlabel(\"Classes\")\n",
    "plt.ylabel(\"Number of Examples\")\n",
    "plt.title(\"Class distribution based on favicon\\n\")\n",
    "plt.xticks(x_pos, x)\n",
    "\n",
    "autolabel(rects7)\n",
    "plt.show()"
   ]
  },
  {
   "cell_type": "code",
   "execution_count": 89,
   "id": "a08393f4-e4c0-438e-9d0c-9fb30e67be6c",
   "metadata": {},
   "outputs": [
    {
     "name": "stdout",
     "output_type": "stream",
     "text": [
      "Total legitimate website: 9951 and total suspicious website: 49\n"
     ]
    },
    {
     "data": {
      "image/png": "[encoded data removed]",
      "text/plain": [
       "<Figure size 640x480 with 1 Axes>"
      ]
     },
     "metadata": {},
     "output_type": "display_data"
    }
   ],
   "source": [
    "no_pop_up= len(phishing_clean[phishing_clean['pop_up_window'] == 0])\n",
    "pop_up = len(phishing_clean[phishing_clean['pop_up_window'] == 1])\n",
    "print(f\"Total legitimate website: {no_pop_up} and total suspicious website: {pop_up}\")\n",
    "\n",
    "x = ['no_pop-up', 'pop-up']\n",
    "x_pos = [i for i, _ in enumerate(x)]\n",
    "\n",
    "y = [no_pop_up, pop_up]\n",
    "\n",
    "fig, ax = plt.subplots()\n",
    "rects8 = ax.bar(x_pos, y, color='red')\n",
    "\n",
    "plt.xlabel(\"Classes\")\n",
    "plt.ylabel(\"Number of Examples\")\n",
    "plt.title(\"Class distribution based on pop-up\\n\")\n",
    "plt.xticks(x_pos, x)\n",
    "\n",
    "autolabel(rects8)\n",
    "plt.show()"
   ]
  },
  {
   "attachments": {},
   "cell_type": "markdown",
   "id": "6041a0da",
   "metadata": {},
   "source": [
    "All the chart univariate and they showing number of phishing website, number of ligimate website.\n",
    "some chart showing number of suspicious website."
   ]
  },
  {
   "cell_type": "code",
   "execution_count": null,
   "id": "c1c2c7a7",
   "metadata": {},
   "outputs": [],
   "source": []
  }
 ],
 "metadata": {
  "kernelspec": {
   "display_name": "Python 3 (ipykernel)",
   "language": "python",
   "name": "python3"
  },
  "language_info": {
   "codemirror_mode": {
    "name": "ipython",
    "version": 3
   },
   "file_extension": ".py",
   "mimetype": "text/x-python",
   "name": "python",
   "nbconvert_exporter": "python",
   "pygments_lexer": "ipython3",
   "version": "3.11.2"
  }
 },
 "nbformat": 4,
 "nbformat_minor": 5
}
